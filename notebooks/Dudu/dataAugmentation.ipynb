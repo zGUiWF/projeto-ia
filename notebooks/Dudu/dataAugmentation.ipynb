{
 "cells": [
  {
   "cell_type": "markdown",
   "id": "9c80458c",
   "metadata": {},
   "source": [
    "# Imports iniciais"
   ]
  },
  {
   "cell_type": "code",
   "execution_count": null,
   "id": "8ed14630",
   "metadata": {},
   "outputs": [
    {
     "name": "stderr",
     "output_type": "stream",
     "text": [
      "c:\\Users\\eduar\\miniconda3\\envs\\projeto-ia\\lib\\site-packages\\smogn\\phi.py:81: RuntimeWarning: divide by zero encountered in scalar divide\n",
      "  delta.append((y_rel[i + 1] - y_rel[i]) / h[i])\n"
     ]
    },
    {
     "ename": "ValueError",
     "evalue": "redefine phi relevance function: all points are 0",
     "output_type": "error",
     "traceback": [
      "\u001b[1;31m---------------------------------------------------------------------------\u001b[0m",
      "\u001b[1;31mValueError\u001b[0m                                Traceback (most recent call last)",
      "Cell \u001b[1;32mIn[8], line 27\u001b[0m\n\u001b[0;32m     24\u001b[0m df_Treino \u001b[38;5;241m=\u001b[39m df_Treino\u001b[38;5;241m.\u001b[39mdropna()\n\u001b[0;32m     26\u001b[0m \u001b[38;5;66;03m# Aplicar SMOGN\u001b[39;00m\n\u001b[1;32m---> 27\u001b[0m df_smogn \u001b[38;5;241m=\u001b[39m \u001b[43msmogn\u001b[49m\u001b[38;5;241;43m.\u001b[39;49m\u001b[43msmoter\u001b[49m\u001b[43m(\u001b[49m\n\u001b[0;32m     28\u001b[0m \u001b[43m    \u001b[49m\u001b[43mdata\u001b[49m\u001b[38;5;241;43m=\u001b[39;49m\u001b[43mdf_Treino\u001b[49m\u001b[43m,\u001b[49m\n\u001b[0;32m     29\u001b[0m \u001b[43m    \u001b[49m\u001b[43my\u001b[49m\u001b[38;5;241;43m=\u001b[39;49m\u001b[38;5;124;43m'\u001b[39;49m\u001b[38;5;124;43mindice_evasao\u001b[39;49m\u001b[38;5;124;43m'\u001b[39;49m\u001b[43m,\u001b[49m\n\u001b[0;32m     30\u001b[0m \u001b[43m    \u001b[49m\u001b[43mk\u001b[49m\u001b[38;5;241;43m=\u001b[39;49m\u001b[38;5;241;43m5\u001b[39;49m\u001b[43m,\u001b[49m\n\u001b[0;32m     31\u001b[0m \u001b[43m    \u001b[49m\u001b[43msamp_method\u001b[49m\u001b[38;5;241;43m=\u001b[39;49m\u001b[38;5;124;43m'\u001b[39;49m\u001b[38;5;124;43mextreme\u001b[39;49m\u001b[38;5;124;43m'\u001b[39;49m\u001b[43m,\u001b[49m\n\u001b[0;32m     32\u001b[0m \u001b[43m    \u001b[49m\u001b[43mrel_method\u001b[49m\u001b[38;5;241;43m=\u001b[39;49m\u001b[38;5;124;43m'\u001b[39;49m\u001b[38;5;124;43mauto\u001b[39;49m\u001b[38;5;124;43m'\u001b[39;49m\u001b[43m,\u001b[49m\n\u001b[0;32m     33\u001b[0m \u001b[43m    \u001b[49m\u001b[43mrel_thres\u001b[49m\u001b[38;5;241;43m=\u001b[39;49m\u001b[38;5;241;43m0.6\u001b[39;49m\u001b[43m  \u001b[49m\u001b[38;5;66;43;03m# tente 0.5, 0.6, 0.7...\u001b[39;49;00m\n\u001b[0;32m     34\u001b[0m \u001b[43m)\u001b[49m\n\u001b[0;32m     38\u001b[0m \u001b[38;5;66;03m# Verificar distribuição após SMOGN\u001b[39;00m\n\u001b[0;32m     39\u001b[0m \u001b[38;5;28mprint\u001b[39m(df_Treino[\u001b[38;5;124m'\u001b[39m\u001b[38;5;124mindice_evasao\u001b[39m\u001b[38;5;124m'\u001b[39m]\u001b[38;5;241m.\u001b[39mvalue_counts()\u001b[38;5;241m.\u001b[39msort_index())\n",
      "File \u001b[1;32mc:\\Users\\eduar\\miniconda3\\envs\\projeto-ia\\lib\\site-packages\\smogn\\smoter.py:180\u001b[0m, in \u001b[0;36msmoter\u001b[1;34m(data, y, k, pert, samp_method, under_samp, drop_na_col, drop_na_row, replace, rel_thres, rel_method, rel_xtrm_type, rel_coef, rel_ctrl_pts_rg)\u001b[0m\n\u001b[0;32m    177\u001b[0m     \u001b[38;5;28;01mraise\u001b[39;00m \u001b[38;5;167;01mValueError\u001b[39;00m(\u001b[38;5;124m\"\u001b[39m\u001b[38;5;124mredefine phi relevance function: all points are 1\u001b[39m\u001b[38;5;124m\"\u001b[39m)\n\u001b[0;32m    179\u001b[0m \u001b[38;5;28;01mif\u001b[39;00m \u001b[38;5;28mall\u001b[39m(i \u001b[38;5;241m==\u001b[39m \u001b[38;5;241m1\u001b[39m \u001b[38;5;28;01mfor\u001b[39;00m i \u001b[38;5;129;01min\u001b[39;00m y_phi):\n\u001b[1;32m--> 180\u001b[0m     \u001b[38;5;28;01mraise\u001b[39;00m \u001b[38;5;167;01mValueError\u001b[39;00m(\u001b[38;5;124m\"\u001b[39m\u001b[38;5;124mredefine phi relevance function: all points are 0\u001b[39m\u001b[38;5;124m\"\u001b[39m)\n\u001b[0;32m    181\u001b[0m \u001b[38;5;66;03m## ---------------------------------------------------------------------- ##\u001b[39;00m\n\u001b[0;32m    182\u001b[0m \n\u001b[0;32m    183\u001b[0m \u001b[38;5;66;03m## determine bin (rare or normal) by bump classification\u001b[39;00m\n\u001b[0;32m    184\u001b[0m bumps \u001b[38;5;241m=\u001b[39m [\u001b[38;5;241m0\u001b[39m]\n",
      "\u001b[1;31mValueError\u001b[0m: redefine phi relevance function: all points are 0"
     ]
    }
   ],
   "source": [
    "import pandas as pd\n",
    "import numpy as np\n",
    "import smogn\n",
    "from sklearn.model_selection import train_test_split\n",
    "\n",
    "df_Treino = pd.read_csv(\"cleanPredictTraining.csv\")\n",
    "\n",
    "df_Treino.columns = df_Treino.columns.str.strip()  # limpar espaços\n",
    "\n",
    "relevance = [\n",
    "    {'x': 1.0, 'y': 1},  # raro\n",
    "    {'x': 2.0, 'y': 1},  # raro\n",
    "    {'x': 3.0, 'y': 1},  # raro\n",
    "    {'x': 4.0, 'y': 0},  # normal\n",
    "    {'x': 5.0, 'y': 0},  # normal\n",
    "    {'x': 6.0, 'y': 0},  # normal (maioria)\n",
    "    {'x': 7.0, 'y': 0},  # normal\n",
    "    {'x': 8.0, 'y': 1},  # raro\n",
    "    {'x': 9.0, 'y': 1},  # raro\n",
    "    {'x': 10.0, 'y': 1}  # raro\n",
    "]\n",
    "\n",
    "# SMOGN exige que não haja NaNs e que a variável target seja numérica\n",
    "df_Treino = df_Treino.dropna()\n",
    "\n",
    "# Aplicar SMOGN\n",
    "df_smogn = smogn.smoter(\n",
    "    data=df_Treino,\n",
    "    y='indice_evasao',\n",
    "    k=5,\n",
    "    samp_method='extreme',\n",
    "    rel_thres=0.8,  # não usado quando passa relevance_df\n",
    "    rel_method='manual',\n",
    "    relevance_df=relevance\n",
    ")\n",
    "\n",
    "# Verificar distribuição após SMOGN\n",
    "print(df_Treino['indice_evasao'].value_counts().sort_index())\n",
    "print(df_smogn['indice_evasao'].value_counts().sort_index())"
   ]
  }
 ],
 "metadata": {
  "kernelspec": {
   "display_name": "projeto-ia",
   "language": "python",
   "name": "python3"
  },
  "language_info": {
   "codemirror_mode": {
    "name": "ipython",
    "version": 3
   },
   "file_extension": ".py",
   "mimetype": "text/x-python",
   "name": "python",
   "nbconvert_exporter": "python",
   "pygments_lexer": "ipython3",
   "version": "3.10.16"
  }
 },
 "nbformat": 4,
 "nbformat_minor": 5
}
