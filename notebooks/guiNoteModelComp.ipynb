{
 "cells": [
  {
   "cell_type": "code",
   "execution_count": 1,
   "id": "cc450909",
   "metadata": {},
   "outputs": [
    {
     "name": "stdout",
     "output_type": "stream",
     "text": [
      "     Modelo  AUC Teste  Precision (Macro Avg)  Recall (Macro Avg)  \\\n",
      "0   infill0   0.892857               0.957143            0.892857   \n",
      "1       KNN   0.948661               0.948661            0.948661   \n",
      "2  max_data   0.877232               0.914216            0.877232   \n",
      "\n",
      "   F1-Score (Macro Avg)  Precision (Classe 1)  Recall (Classe 1)  \\\n",
      "0              0.917612              1.000000           0.785714   \n",
      "1              0.948661              0.928571           0.928571   \n",
      "2              0.892774              0.916667           0.785714   \n",
      "\n",
      "   F1-Score (Classe 1)  \n",
      "0             0.880000  \n",
      "1             0.928571  \n",
      "2             0.846154  \n"
     ]
    }
   ],
   "source": [
    "import json\n",
    "import pandas as pd\n",
    "\n",
    "# Lista com os nomes dos arquivos JSON\n",
    "arquivos = {\n",
    "    \"infill0\": \"metrics_infill0.json\",\n",
    "    \"KNN\": \"metrics_KNN.json\",\n",
    "    \"max_data\": \"metrics_max_data.json\"\n",
    "}\n",
    "\n",
    "# Inicializa uma lista para armazenar as métricas\n",
    "dados_comparativos = []\n",
    "\n",
    "for nome_modelo, caminho in arquivos.items():\n",
    "    with open(caminho, 'r') as f:\n",
    "        resultado = json.load(f)\n",
    "\n",
    "    # Extrai as principais métricas\n",
    "    metrics = {\n",
    "        'Modelo': nome_modelo,\n",
    "        'AUC Teste': resultado['test_auc'],\n",
    "        'Precision (Macro Avg)': resultado['classification_report']['macro avg']['precision'],\n",
    "        'Recall (Macro Avg)': resultado['classification_report']['macro avg']['recall'],\n",
    "        'F1-Score (Macro Avg)': resultado['classification_report']['macro avg']['f1-score'],\n",
    "        'Precision (Classe 1)': resultado['classification_report']['1']['precision'],\n",
    "        'Recall (Classe 1)': resultado['classification_report']['1']['recall'],\n",
    "        'F1-Score (Classe 1)': resultado['classification_report']['1']['f1-score']\n",
    "    }\n",
    "\n",
    "    dados_comparativos.append(metrics)\n",
    "\n",
    "# Cria o DataFrame de comparação\n",
    "df_comparativo = pd.DataFrame(dados_comparativos)\n",
    "\n",
    "#exibe o DataFrame\n",
    "print(df_comparativo)\n",
    "\n"
   ]
  },
  {
   "cell_type": "code",
   "execution_count": null,
   "id": "02244efe",
   "metadata": {},
   "outputs": [],
   "source": []
  }
 ],
 "metadata": {
  "kernelspec": {
   "display_name": "projeto-ia",
   "language": "python",
   "name": "python3"
  },
  "language_info": {
   "codemirror_mode": {
    "name": "ipython",
    "version": 3
   },
   "file_extension": ".py",
   "mimetype": "text/x-python",
   "name": "python",
   "nbconvert_exporter": "python",
   "pygments_lexer": "ipython3",
   "version": "3.10.16"
  }
 },
 "nbformat": 4,
 "nbformat_minor": 5
}
